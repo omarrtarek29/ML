{
 "cells": [
  {
   "cell_type": "code",
   "execution_count": 3,
   "id": "0fad703f",
   "metadata": {},
   "outputs": [],
   "source": [
    "import numpy as np\n",
    "import pandas as pd\n",
    "import matplotlib.pyplot as plt\n",
    "import random\n",
    "\n",
    "pd.options.mode.chained_assignment = None"
   ]
  },
  {
   "cell_type": "code",
   "execution_count": 4,
   "id": "4fcaaa6e",
   "metadata": {},
   "outputs": [
    {
     "name": "stdout",
     "output_type": "stream",
     "text": [
      "   Mass  Speed Class\n",
      "0   1.0    0.1    -1\n",
      "1   2.0    0.2    -1\n",
      "2   0.1    0.3     1\n",
      "3   2.0    0.3    -1\n",
      "4   0.2    0.4     1\n",
      "5   3.0    0.4    -1\n",
      "6   0.1    0.5     1\n",
      "7   1.5    0.5    -1\n",
      "8   0.5    0.6     1\n",
      "9   1.6    0.7     1\n"
     ]
    }
   ],
   "source": [
    "dataset = pd.read_excel('Perceptron.xlsx')\n",
    "\n",
    "for i in range(len(dataset['Class'])):\n",
    "    if dataset['Class'][i] == 'Bomber':\n",
    "        dataset['Class'][i] = -1\n",
    "    else:\n",
    "        dataset['Class'][i] = 1\n",
    "        \n",
    "print(dataset)"
   ]
  },
  {
   "cell_type": "code",
   "execution_count": 5,
   "id": "000effb0",
   "metadata": {},
   "outputs": [
    {
     "name": "stdout",
     "output_type": "stream",
     "text": [
      "x = [[1.  1.  0.1]\n",
      " [1.  2.  0.2]\n",
      " [1.  0.1 0.3]\n",
      " [1.  2.  0.3]\n",
      " [1.  0.2 0.4]\n",
      " [1.  3.  0.4]\n",
      " [1.  0.1 0.5]\n",
      " [1.  1.5 0.5]\n",
      " [1.  0.5 0.6]\n",
      " [1.  1.6 0.7]]\n",
      "w = [[ 0.85283076]\n",
      " [-0.22579659]\n",
      " [-0.61486061]]\n",
      "y = [-1 -1 1 -1 1 -1 1 -1 1 1]\n"
     ]
    }
   ],
   "source": [
    "# data\n",
    "x = dataset[['Mass', 'Speed']].to_numpy()\n",
    "x = np.insert(x, 0, 1, axis= 1)\n",
    "w = np.random.randn(3, 1)\n",
    "y = dataset['Class'].to_numpy()\n",
    "\n",
    "# hyper-parameters\n",
    "learning_rate = 0.1\n",
    "epochs = 100\n",
    "\n",
    "print('x = ' + str(x))\n",
    "print('w = ' + str(w))\n",
    "print('y = ' + str(np.transpose(y)))"
   ]
  },
  {
   "cell_type": "code",
   "execution_count": 6,
   "id": "5cc2aed1",
   "metadata": {},
   "outputs": [],
   "source": [
    "def train(x, y, w, learnin_rate, epochs):\n",
    "    \n",
    "    performance = 0\n",
    "    epoch_counter = 0\n",
    "\n",
    "    while epochs > 0:\n",
    "        performance_counter = 0\n",
    "        epoch_counter += 1\n",
    "        for i in range(len(x)):\n",
    "            z = np.dot(x[i].reshape(1, 3), w)\n",
    "            y_estimate = np.sign(z)\n",
    "\n",
    "            error = y[i] - y_estimate\n",
    "\n",
    "            w = w + learning_rate * error * x[i].reshape(1, 3).T\n",
    "\n",
    "            if y_estimate == y[i]:\n",
    "                performance_counter += 1\n",
    "\n",
    "        if performance_counter == len(x):\n",
    "            performance = 1\n",
    "            print(\"Accuracy is finally 100%! Congrats!\")\n",
    "            print(\"Model has reached 100% accuracy after \" + str(epoch_counter) + \" epochs!\")\n",
    "            break\n",
    "        else:\n",
    "            performance = performance_counter / len(x)\n",
    "\n",
    "        print(\"Accuracy is \" + str(performance) + \" on epoch \" + str(epoch_counter))\n",
    "\n",
    "        epochs -= 1"
   ]
  },
  {
   "cell_type": "code",
   "execution_count": 7,
   "id": "991bc1a7",
   "metadata": {},
   "outputs": [],
   "source": [
    "def predict(mass, speed):\n",
    "    x_test = np.array([1, mass, speed]).reshape(1, 3)\n",
    "    z_test = np.dot(x_test, w)\n",
    "    y_predicted = np.sign(z_test)\n",
    "    \n",
    "    if y_predicted == -1:\n",
    "        return \"Bomber\"\n",
    "    elif y_predicted == 1:\n",
    "        return \"Fighter\"\n",
    "    else:\n",
    "        return None"
   ]
  },
  {
   "cell_type": "code",
   "execution_count": 8,
   "id": "68fbddbc",
   "metadata": {},
   "outputs": [
    {
     "name": "stdout",
     "output_type": "stream",
     "text": [
      "Accuracy is 0.8 on epoch 1\n",
      "Accuracy is 0.8 on epoch 2\n",
      "Accuracy is 0.6 on epoch 3\n",
      "Accuracy is 0.6 on epoch 4\n",
      "Accuracy is 0.8 on epoch 5\n",
      "Accuracy is 0.7 on epoch 6\n",
      "Accuracy is 0.8 on epoch 7\n",
      "Accuracy is 0.8 on epoch 8\n",
      "Accuracy is 0.7 on epoch 9\n",
      "Accuracy is 0.8 on epoch 10\n",
      "Accuracy is 0.8 on epoch 11\n",
      "Accuracy is 0.7 on epoch 12\n",
      "Accuracy is 0.8 on epoch 13\n",
      "Accuracy is 0.9 on epoch 14\n",
      "Accuracy is finally 100%! Congrats!\n",
      "Model has reached 100% accuracy after 15 epochs!\n",
      "Final weight: [[ 0.85283076]\n",
      " [-0.22579659]\n",
      " [-0.61486061]]\n"
     ]
    }
   ],
   "source": [
    "train(x, y, w, 0.1, 50)\n",
    "print(\"Final weight: \" + str(w))"
   ]
  },
  {
   "cell_type": "code",
   "execution_count": 12,
   "id": "d471bda4",
   "metadata": {},
   "outputs": [
    {
     "name": "stdout",
     "output_type": "stream",
     "text": [
      "Fighter\n",
      "[1.  0.5 0.6]\n",
      "1\n"
     ]
    }
   ],
   "source": [
    "test_index = 8\n",
    "\n",
    "prediction = predict(x[test_index][1], x[test_index][2])\n",
    "print(prediction)\n",
    "print(x[test_index])\n",
    "print(y[test_index])"
   ]
  },
  {
   "cell_type": "code",
   "execution_count": null,
   "id": "90a8ab1e",
   "metadata": {},
   "outputs": [],
   "source": []
  }
 ],
 "metadata": {
  "kernelspec": {
   "display_name": "Python 3 (ipykernel)",
   "language": "python",
   "name": "python3"
  },
  "language_info": {
   "codemirror_mode": {
    "name": "ipython",
    "version": 3
   },
   "file_extension": ".py",
   "mimetype": "text/x-python",
   "name": "python",
   "nbconvert_exporter": "python",
   "pygments_lexer": "ipython3",
   "version": "3.8.12"
  }
 },
 "nbformat": 4,
 "nbformat_minor": 5
}
