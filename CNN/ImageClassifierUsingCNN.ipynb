{
 "cells": [
  {
   "cell_type": "code",
   "execution_count": 1,
   "id": "f7184d9c",
   "metadata": {},
   "outputs": [],
   "source": [
    "import numpy as np\n",
    "from tensorflow import keras\n",
    "import matplotlib.pyplot as plt"
   ]
  },
  {
   "cell_type": "code",
   "execution_count": 2,
   "id": "f9f4bd9d",
   "metadata": {},
   "outputs": [
    {
     "name": "stdout",
     "output_type": "stream",
     "text": [
      "(60000, 28, 28, 1) (10000, 28, 28, 1)\n"
     ]
    }
   ],
   "source": [
    "# load mnist dataset from keras datasets\n",
    "dataset = keras.datasets.mnist\n",
    "(x_train, y_train), (x_test, y_test) = dataset.load_data()\n",
    "\n",
    "# normalize dataset\n",
    "x_train = keras.utils.normalize(x_train)\n",
    "x_test = keras.utils.normalize(x_test)\n",
    "\n",
    "# reshaping data\n",
    "train_shape = x_train.shape\n",
    "x_train = x_train.reshape(train_shape[0], train_shape[1], train_shape[2], 1)\n",
    "test_shape = x_test.shape\n",
    "x_test = x_test.reshape(test_shape[0], test_shape[1], test_shape[2], 1)\n",
    "\n",
    "print(x_train.shape, x_test.shape)"
   ]
  },
  {
   "cell_type": "code",
   "execution_count": 3,
   "id": "33759405",
   "metadata": {},
   "outputs": [
    {
     "name": "stdout",
     "output_type": "stream",
     "text": [
      "Epoch 1/3\n",
      "60000/60000 [==============================] - 217s 4ms/step - loss: 0.1751 - accuracy: 0.9472\n",
      "Epoch 2/3\n",
      "60000/60000 [==============================] - 248s 4ms/step - loss: 0.0826 - accuracy: 0.9752\n",
      "Epoch 3/3\n",
      "60000/60000 [==============================] - 257s 4ms/step - loss: 0.0664 - accuracy: 0.9806\n",
      "10000/10000 [==============================] - 26s 3ms/step - loss: 0.0717 - accuracy: 0.9780\n"
     ]
    }
   ],
   "source": [
    "# creating a sequential model\n",
    "model = keras.Sequential()\n",
    "\n",
    "# adding convolutional and pooling layers\n",
    "model.add(keras.layers.Conv2D(filters = 16, kernel_size = [3, 3], activation = 'relu', strides = 1, padding = 'same'))\n",
    "model.add(keras.layers.Conv2D(filters = 4, kernel_size = [3, 3], activation = 'relu', strides = 1, padding = 'same'))\n",
    "\n",
    "model.add(keras.layers.MaxPool2D(strides = 2, padding = 'valid'))  # output ---> dims --> (w + 2p - k_s + 1 / strides)\n",
    "\n",
    "# flattening data\n",
    "model.add(keras.layers.Flatten())\n",
    "\n",
    "# adding 2 hidden layers and the output layer \n",
    "model.add(keras.layers.Dense(32, activation = 'relu'))\n",
    "model.add(keras.layers.Dense(16, activation = 'relu'))\n",
    "model.add(keras.layers.Dense(10, activation = 'sigmoid'))\n",
    "\n",
    "model.compile(optimizer= 'adam',\n",
    "             loss= 'sparse_categorical_crossentropy',\n",
    "             metrics= 'accuracy')\n",
    "\n",
    "model.fit(x_train, y_train, epochs = 3, batch_size = 1)\n",
    "loss, accuracy = model.evaluate(x_test, y_test, batch_size = 1)"
   ]
  },
  {
   "cell_type": "code",
   "execution_count": 4,
   "id": "4c572f87",
   "metadata": {},
   "outputs": [
    {
     "name": "stdout",
     "output_type": "stream",
     "text": [
      "The number in the image is 5\n"
     ]
    },
    {
     "data": {
      "text/plain": [
       "<matplotlib.image.AxesImage at 0x20b083e6560>"
      ]
     },
     "execution_count": 4,
     "metadata": {},
     "output_type": "execute_result"
    },
    {
     "data": {
      "image/png": "[encoded data removed]",
      "text/plain": [
       "<Figure size 432x288 with 1 Axes>"
      ]
     },
     "metadata": {
      "needs_background": "light"
     },
     "output_type": "display_data"
    }
   ],
   "source": [
    "# predicting an image of a given index\n",
    "img_index = 5456\n",
    "\n",
    "prediction = np.argmax(model.predict(x_train[img_index].reshape(1, 28, 28)))\n",
    "print(\"The number in the image is \" + str(prediction))\n",
    "plt.imshow(x_train[img_index].reshape(28, 28))\n"
   ]
  },
  {
   "cell_type": "code",
   "execution_count": null,
   "id": "c72db97f",
   "metadata": {},
   "outputs": [],
   "source": []
  }
 ],
 "metadata": {
  "kernelspec": {
   "display_name": "Python 3 (ipykernel)",
   "language": "python",
   "name": "python3"
  },
  "language_info": {
   "codemirror_mode": {
    "name": "ipython",
    "version": 3
   },
   "file_extension": ".py",
   "mimetype": "text/x-python",
   "name": "python",
   "nbconvert_exporter": "python",
   "pygments_lexer": "ipython3",
   "version": "3.10.0"
  }
 },
 "nbformat": 4,
 "nbformat_minor": 5
}
