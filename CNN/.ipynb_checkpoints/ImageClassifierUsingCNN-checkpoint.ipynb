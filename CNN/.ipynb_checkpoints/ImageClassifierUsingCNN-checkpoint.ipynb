{
 "cells": [
  {
   "cell_type": "code",
   "execution_count": null,
   "id": "f7184d9c",
   "metadata": {},
   "outputs": [],
   "source": [
    "import numpy as np\n",
    "from tensorflow import keras\n",
    "import matplotlib.pyplot as plt\n"
   ]
  },
  {
   "cell_type": "code",
   "execution_count": 15,
   "id": "f9f4bd9d",
   "metadata": {},
   "outputs": [
    {
     "name": "stdout",
     "output_type": "stream",
     "text": [
      "(60000, 28, 28, 1) (10000, 28, 28, 1)\n"
     ]
    }
   ],
   "source": [
    "# load mnist dataset from keras datasets\n",
    "dataset = keras.datasets.mnist\n",
    "(x_train, y_train), (x_test, y_test) = dataset.load_data()\n",
    "\n",
    "# normalize dataset\n",
    "x_train = keras.utils.normalize(x_train)\n",
    "x_test = keras.utils.normalize(x_test)\n",
    "\n",
    "# reshaping data\n",
    "train_shape = x_train.shape\n",
    "x_train = x_train.reshape(train_shape[0], train_shape[1], train_shape[2], 1)\n",
    "test_shape = x_test.shape\n",
    "x_test = x_test.reshape(test_shape[0], test_shape[1], test_shape[2], 1)\n",
    "\n",
    "print(x_train.shape, x_test.shape)"
   ]
  },
  {
   "cell_type": "code",
   "execution_count": null,
   "id": "33759405",
   "metadata": {},
   "outputs": [
    {
     "name": "stdout",
     "output_type": "stream",
     "text": [
      "1094/1875 [================>.............] - ETA: 17s - loss: 1.6273 - accuracy: 0.4810"
     ]
    }
   ],
   "source": [
    "# creating a sequential model\n",
    "model = keras.Sequential()\n",
    "\n",
    "# adding convolutional and pooling layers\n",
    "model.add(keras.layers.Conv2D(filters = 8, kernel_size = [3, 3], activation = 'relu', strides = 1, padding = 'same'))\n",
    "model.add(keras.layers.MaxPool2D(strides = 2, padding = 'valid'))\n",
    "\n",
    "# flattening data\n",
    "model.add(keras.layers.Flatten())\n",
    "\n",
    "# adding 2 hidden layers and the output layer \n",
    "model.add(keras.layers.Dense(16, activation = 'relu'))\n",
    "model.add(keras.layers.Dense(16, activation = 'relu'))\n",
    "model.add(keras.layers.Dense(10, activation = 'sigmoid'))\n",
    "\n",
    "model.compile(optimizer= 'SGD',\n",
    "             loss= 'sparse_categorical_crossentropy',\n",
    "             metrics= 'accuracy')\n",
    "\n",
    "model.fit(x_train, y_train, batch_size = 32, epochs = 1)\n",
    "loss, accuracy = model.evaluate(x_test, y_test, batch_size = 1)"
   ]
  },
  {
   "cell_type": "code",
   "execution_count": null,
   "id": "4c572f87",
   "metadata": {},
   "outputs": [],
   "source": [
    "# predicting an image of a given index\n",
    "img_index = 5456\n",
    "\n",
    "prediction = np.argmax(model.predict(x_train[img_index].reshape(1, 28, 28)))\n",
    "print(\"The number in the image is \" + str(prediction))\n",
    "plt.imshow(x_train[img_index].reshape(28, 28))\n"
   ]
  },
  {
   "cell_type": "code",
   "execution_count": null,
   "id": "2946b81a",
   "metadata": {},
   "outputs": [],
   "source": [
    "import tensorflow as tf\n",
    "tf.test.is_built_with_cuda()"
   ]
  }
 ],
 "metadata": {
  "kernelspec": {
   "display_name": "Python [conda env:tf-gpu]",
   "language": "python",
   "name": "conda-env-tf-gpu-py"
  },
  "language_info": {
   "codemirror_mode": {
    "name": "ipython",
    "version": 3
   },
   "file_extension": ".py",
   "mimetype": "text/x-python",
   "name": "python",
   "nbconvert_exporter": "python",
   "pygments_lexer": "ipython3",
   "version": "3.9.7"
  }
 },
 "nbformat": 4,
 "nbformat_minor": 5
}
