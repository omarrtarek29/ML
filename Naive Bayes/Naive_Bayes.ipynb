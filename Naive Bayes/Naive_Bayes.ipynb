{
 "cells": [
  {
   "cell_type": "code",
   "execution_count": 1,
   "id": "e3058988",
   "metadata": {},
   "outputs": [
    {
     "name": "stdout",
     "output_type": "stream",
     "text": [
      "     Outlook Temperature Humidity    Wind Play Tennis\n",
      "0      Sunny         Hot     High    Weak          No\n",
      "1      Sunny         Hot     High  Strong          No\n",
      "2   Overcast         Hot     High    Weak         Yes\n",
      "3       Rain        Mild     High    Weak         Yes\n",
      "4       Rain        Cool   Normal    Weak         Yes\n",
      "5       Rain        Cool   Normal  Strong          No\n",
      "6   Overcast        Cool   Normal  Strong         Yes\n",
      "7      Sunny        Mild     High    Weak          No\n",
      "8      Sunny        Cool   Normal    Weak         Yes\n",
      "9       Rain        Mild   Normal    Weak         Yes\n",
      "10     Sunny        Mild   Normal  Strong         Yes\n",
      "11  Overcast        Mild     High  Strong         Yes\n",
      "12  Overcast         Hot   Normal    Weak         Yes\n",
      "13      Rain        Mild     High  Strong          No\n"
     ]
    }
   ],
   "source": [
    "import pandas as pd\n",
    "\n",
    "dataset = pd.read_excel(r'PlayTennisData.xlsx')\n",
    "dataset['Outlook'][1] = 'Sunny'\n",
    "print(dataset)\n",
    "\n",
    "outlook = dataset['Outlook']\n",
    "temp = dataset['Temperature']\n",
    "humidity = dataset['Humidity']\n",
    "wind = dataset['Wind']\n",
    "labels = dataset['Play Tennis']"
   ]
  },
  {
   "cell_type": "code",
   "execution_count": 2,
   "id": "c4273904",
   "metadata": {},
   "outputs": [],
   "source": [
    "def count_yes_no(labels, var):\n",
    "    count = 0\n",
    "    for i in range(len(labels)):\n",
    "        if labels[i] == var:\n",
    "            count += 1\n",
    "    \n",
    "    return count\n",
    "\n",
    "def count_class_yes_no(classes, classes_var, labels, labels_var):\n",
    "    count = 0\n",
    "    for i in range(len(labels)):\n",
    "        if labels[i] == labels_var and classes[i] == classes_var:\n",
    "            count += 1\n",
    "    \n",
    "    return count\n"
   ]
  },
  {
   "cell_type": "code",
   "execution_count": 4,
   "id": "75340865",
   "metadata": {},
   "outputs": [
    {
     "name": "stdout",
     "output_type": "stream",
     "text": [
      "9\n",
      "5\n",
      "0.6428571428571429\n",
      "0.35714285714285715\n"
     ]
    }
   ],
   "source": [
    "play_yes = count_yes_no(labels, 'Yes')\n",
    "play_no = count_yes_no(labels, 'No')\n",
    "\n",
    "prob_yes = play_yes / len(labels)\n",
    "prob_no = play_no / len(labels)\n",
    "\n",
    "print(play_yes)\n",
    "print(play_no)\n",
    "print(prob_yes)\n",
    "print(prob_no)"
   ]
  },
  {
   "cell_type": "code",
   "execution_count": 5,
   "id": "bd6ef683",
   "metadata": {},
   "outputs": [
    {
     "name": "stdout",
     "output_type": "stream",
     "text": [
      "2\n",
      "3\n",
      "0.2222222222222222\n",
      "0.6\n"
     ]
    }
   ],
   "source": [
    "play_sunny_yes = count_class_yes_no(outlook, 'Sunny', labels, 'Yes')\n",
    "play_sunny_no = count_class_yes_no(outlook, 'Sunny', labels, 'No')\n",
    "\n",
    "prob_sunny_yes = play_sunny_yes / play_yes\n",
    "prob_sunny_no = play_sunny_no / play_no\n",
    "\n",
    "print(play_sunny_yes)\n",
    "print(play_sunny_no)\n",
    "print(prob_sunny_yes)\n",
    "print(prob_sunny_no)"
   ]
  },
  {
   "cell_type": "code",
   "execution_count": null,
   "id": "4580d4cf",
   "metadata": {},
   "outputs": [],
   "source": [
    "play_cool_yes = count_class_yes_no(temp, 'Cool', classes, 'Yes')\n",
    "play_cool_no = count_class_yes_no(temp, 'Cool', classes, 'No')\n",
    "\n",
    "prob_cool_yes = play_cool_yes / play_yes\n",
    "prob_cool_no = play_cool_no / play_no\n",
    "\n",
    "print(play_cool_yes)\n",
    "print(play_cool_no)\n",
    "print(prob_cool_yes)\n",
    "print(prob_cool_no)"
   ]
  },
  {
   "cell_type": "code",
   "execution_count": null,
   "id": "fb43a34d",
   "metadata": {},
   "outputs": [],
   "source": [
    "play_high_yes = count_class_yes_no(humidity, 'High', classes, 'Yes')\n",
    "play_high_no = count_class_yes_no(humidity, 'High', classes, 'No')\n",
    "\n",
    "prob_high_yes = play_high_yes / play_yes\n",
    "prob_high_no = play_high_no / play_no\n",
    "\n",
    "print(play_high_yes)\n",
    "print(play_high_no)\n",
    "print(prob_high_yes)\n",
    "print(prob_high_no)"
   ]
  },
  {
   "cell_type": "code",
   "execution_count": null,
   "id": "bdea2856",
   "metadata": {},
   "outputs": [],
   "source": [
    "play_strong_yes = count_class_yes_no(wind, 'Strong', classes, 'Yes')\n",
    "play_strong_no = count_class_yes_no(wind, 'Strong', classes, 'No')\n",
    "\n",
    "prob_strong_yes = play_strong_yes / play_yes\n",
    "prob_strong_no = play_strong_no / play_no\n",
    "\n",
    "print(play_strong_yes)\n",
    "print(play_strong_no)\n",
    "print(prob_strong_yes)\n",
    "print(prob_strong_no)"
   ]
  },
  {
   "cell_type": "code",
   "execution_count": null,
   "id": "4189528b",
   "metadata": {},
   "outputs": [],
   "source": [
    "total_yes_prob = prob_sunny_yes * prob_cool_yes * prob_high_yes * prob_strong_yes * prob_yes\n",
    "total_no_prob = prob_sunny_no * prob_cool_no * prob_high_no * prob_strong_no * prob_no\n",
    "\n",
    "print(total_yes_prob)\n",
    "print(total_no_prob)\n",
    "\n",
    "if total_yes_prob > total_no_prob:\n",
    "    print(\"He will play tennis!\")\n",
    "else:\n",
    "    print(\"He will not play tennis!!\")"
   ]
  },
  {
   "cell_type": "code",
   "execution_count": null,
   "id": "7016a55e",
   "metadata": {},
   "outputs": [],
   "source": [
    "def predict_model(outlook_var, temp_var, humidity_var, wind_var):\n",
    "  \n",
    "    # calculating probability of yes & no's \n",
    "    play_yes = count_yes_no(classes, 'Yes')\n",
    "    play_no = count_yes_no(classes, 'No')\n",
    "\n",
    "    prob_yes = play_yes / len(classes)\n",
    "    prob_no = play_no / len(classes)\n",
    "    \n",
    "    #print(prob_yes)\n",
    "    #print(prob_no)\n",
    "    \n",
    "    # calculating probability of outlook_var\n",
    "    play_outlook_var_yes = count_class_yes_no(outlook, outlook_var, classes, 'Yes')\n",
    "    play_outlook_var_no = count_class_yes_no(outlook, outlook_var, classes, 'No')\n",
    "\n",
    "    prob_outlook_var_yes = play_outlook_var_yes / play_yes\n",
    "    prob_outlook_var_no = play_outlook_var_no / play_no\n",
    "    \n",
    "    #print(prob_outlook_var_yes)\n",
    "    #print(prob_outlook_var_no)\n",
    "    \n",
    "    # calculating probability of temp_var\n",
    "    play_temp_var_yes = count_class_yes_no(temp, temp_var, classes, 'Yes')\n",
    "    play_temp_var_no = count_class_yes_no(temp, temp_var, classes, 'No')\n",
    "\n",
    "    prob_temp_var_yes = play_temp_var_yes / play_yes\n",
    "    prob_temp_var_no = play_temp_var_no / play_no\n",
    "    \n",
    "    #print(prob_temp_var_yes)\n",
    "    #print(prob_temp_var_no)\n",
    "    \n",
    "    # calculating probability of humidity_var\n",
    "    play_humidity_var_yes = count_class_yes_no(humidity, humidity_var, classes, 'Yes')\n",
    "    play_humidity_var_no = count_class_yes_no(humidity, humidity_var, classes, 'No')\n",
    "\n",
    "    prob_humidity_var_yes = play_humidity_var_yes / play_yes\n",
    "    prob_humidity_var_no = play_humidity_var_no / play_no\n",
    "    \n",
    "    #print(prob_humidity_var_yes)\n",
    "    #print(prob_humidity_var_no)\n",
    "    \n",
    "    # calculating probability of wind_var\n",
    "    play_wind_var_yes = count_class_yes_no(wind, wind_var, classes, 'Yes')\n",
    "    play_wind_var_no = count_class_yes_no(wind, wind_var, classes, 'No')\n",
    "\n",
    "    prob_wind_var_yes = play_wind_var_yes / play_yes\n",
    "    prob_wind_var_no = play_wind_var_no / play_no\n",
    "    \n",
    "    #print(prob_wind_var_yes)\n",
    "    #print(prob_wind_var_no)\n",
    "    \n",
    "    # calculating overall probability\n",
    "    total_yes_prob = prob_outlook_var_yes * prob_temp_var_yes * prob_humidity_var_yes * prob_wind_var_yes * prob_yes\n",
    "    total_no_prob = prob_outlook_var_no * prob_temp_var_no * prob_humidity_var_no * prob_wind_var_no * prob_no\n",
    "    \n",
    "    #print(total_yes_prob)\n",
    "    #print(total_no_prob)\n",
    "    \n",
    "    if total_yes_prob > total_no_prob:\n",
    "        print(\"He will play tennis!\")\n",
    "    else:\n",
    "        print(\"He will not play tennis!!\")"
   ]
  },
  {
   "cell_type": "code",
   "execution_count": null,
   "id": "a94b6ace",
   "metadata": {},
   "outputs": [],
   "source": [
    "predict_model('Sunny', 'Cool', 'High', 'Strong')"
   ]
  },
  {
   "cell_type": "code",
   "execution_count": null,
   "id": "a49b316f",
   "metadata": {},
   "outputs": [],
   "source": []
  }
 ],
 "metadata": {
  "kernelspec": {
   "display_name": "Python [conda env:root] *",
   "language": "python",
   "name": "conda-root-py"
  },
  "language_info": {
   "codemirror_mode": {
    "name": "ipython",
    "version": 3
   },
   "file_extension": ".py",
   "mimetype": "text/x-python",
   "name": "python",
   "nbconvert_exporter": "python",
   "pygments_lexer": "ipython3",
   "version": "3.8.12"
  }
 },
 "nbformat": 4,
 "nbformat_minor": 5
}
